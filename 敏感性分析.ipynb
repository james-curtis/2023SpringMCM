{
 "cells": [
  {
   "cell_type": "code",
   "execution_count": null,
   "outputs": [],
   "source": [
    "import pickle\n",
    "\n",
    "model = pickle.load(f)\n",
    "# 计算特征的置换重要性\n",
    "feature_importance = model.get_feature_importance(train_data, type=\"Permutation\")\n"
   ],
   "metadata": {
    "collapsed": false
   }
  },
  {
   "cell_type": "code",
   "execution_count": null,
   "metadata": {
    "collapsed": true
   },
   "outputs": [],
   "source": [
    "import shap\n",
    "\n",
    "# 创建训练数据集\n",
    "train_pool = Pool(X_train, y_train, cat_features=categorical_features_indices)\n",
    "\n",
    "# 初始化CatBoost分类器\n",
    "model = CatBoostClassifier(iterations=100, learning_rate=0.1, depth=2)\n",
    "\n",
    "# 拟合模型\n",
    "model.fit(train_pool)\n",
    "\n",
    "# 计算SHAP值\n",
    "explainer = shap.Explainer(model)\n",
    "shap_values = explainer(train_pool)\n",
    "\n",
    "# 计算特征的SHAP值\n",
    "feature_importance = shap_values.mean(0)\n"
   ]
  }
 ],
 "metadata": {
  "kernelspec": {
   "display_name": "Python 3",
   "language": "python",
   "name": "python3"
  },
  "language_info": {
   "codemirror_mode": {
    "name": "ipython",
    "version": 2
   },
   "file_extension": ".py",
   "mimetype": "text/x-python",
   "name": "python",
   "nbconvert_exporter": "python",
   "pygments_lexer": "ipython2",
   "version": "2.7.6"
  }
 },
 "nbformat": 4,
 "nbformat_minor": 0
}

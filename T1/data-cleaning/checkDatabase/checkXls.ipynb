{
 "cells": [
  {
   "cell_type": "code",
   "execution_count": 2,
   "metadata": {
    "collapsed": true,
    "ExecuteTime": {
     "start_time": "2023-04-01T17:57:47.824227Z",
     "end_time": "2023-04-01T17:57:47.997577Z"
    }
   },
   "outputs": [],
   "source": [
    "import pandas as pd\n",
    "\n",
    "df = pd.read_excel('2023_MCM_Problem_Y_Boats.xlsx')"
   ]
  },
  {
   "cell_type": "code",
   "execution_count": 3,
   "outputs": [
    {
     "data": {
      "text/plain": "           Make      Variant  Length \\n(ft) Geographic Region  \\\n0        Alubat     Ovni 395             41            Europe   \n1       Bavaria   38 Cruiser             38            Europe   \n2       Bavaria   38 Cruiser             38            Europe   \n3       Bavaria   38 Cruiser             38            Europe   \n4       Bavaria  38 Cruiser              38            Europe   \n...         ...          ...            ...               ...   \n2341  RM Yachts     RM 12.70             40            Europe   \n2342  RM Yachts      RM 1270             42            Europe   \n2343  Southerly           48             48            Europe   \n2344   X-Yachts           X4             43            Europe   \n2345   X-Yachts         X4.6             46            Europe   \n\n     Country/Region/State   Listing Price (USD)  Year  \n0                   France               267233  2005  \n1                  Croatia                75178  2005  \n2                  Croatia                66825  2005  \n3                  Croatia                54661  2005  \n4                  Croatia                53447  2005  \n...                    ...                  ...   ...  \n2341                France               406868  2019  \n2342                France               406923  2019  \n2343        United Kingdom              1192424  2019  \n2344        United Kingdom               546613  2019  \n2345              Portugal               570907  2019  \n\n[2346 rows x 7 columns]",
      "text/html": "<div>\n<style scoped>\n    .dataframe tbody tr th:only-of-type {\n        vertical-align: middle;\n    }\n\n    .dataframe tbody tr th {\n        vertical-align: top;\n    }\n\n    .dataframe thead th {\n        text-align: right;\n    }\n</style>\n<table border=\"1\" class=\"dataframe\">\n  <thead>\n    <tr style=\"text-align: right;\">\n      <th></th>\n      <th>Make</th>\n      <th>Variant</th>\n      <th>Length \\n(ft)</th>\n      <th>Geographic Region</th>\n      <th>Country/Region/State</th>\n      <th>Listing Price (USD)</th>\n      <th>Year</th>\n    </tr>\n  </thead>\n  <tbody>\n    <tr>\n      <th>0</th>\n      <td>Alubat</td>\n      <td>Ovni 395</td>\n      <td>41</td>\n      <td>Europe</td>\n      <td>France</td>\n      <td>267233</td>\n      <td>2005</td>\n    </tr>\n    <tr>\n      <th>1</th>\n      <td>Bavaria</td>\n      <td>38 Cruiser</td>\n      <td>38</td>\n      <td>Europe</td>\n      <td>Croatia</td>\n      <td>75178</td>\n      <td>2005</td>\n    </tr>\n    <tr>\n      <th>2</th>\n      <td>Bavaria</td>\n      <td>38 Cruiser</td>\n      <td>38</td>\n      <td>Europe</td>\n      <td>Croatia</td>\n      <td>66825</td>\n      <td>2005</td>\n    </tr>\n    <tr>\n      <th>3</th>\n      <td>Bavaria</td>\n      <td>38 Cruiser</td>\n      <td>38</td>\n      <td>Europe</td>\n      <td>Croatia</td>\n      <td>54661</td>\n      <td>2005</td>\n    </tr>\n    <tr>\n      <th>4</th>\n      <td>Bavaria</td>\n      <td>38 Cruiser</td>\n      <td>38</td>\n      <td>Europe</td>\n      <td>Croatia</td>\n      <td>53447</td>\n      <td>2005</td>\n    </tr>\n    <tr>\n      <th>...</th>\n      <td>...</td>\n      <td>...</td>\n      <td>...</td>\n      <td>...</td>\n      <td>...</td>\n      <td>...</td>\n      <td>...</td>\n    </tr>\n    <tr>\n      <th>2341</th>\n      <td>RM Yachts</td>\n      <td>RM 12.70</td>\n      <td>40</td>\n      <td>Europe</td>\n      <td>France</td>\n      <td>406868</td>\n      <td>2019</td>\n    </tr>\n    <tr>\n      <th>2342</th>\n      <td>RM Yachts</td>\n      <td>RM 1270</td>\n      <td>42</td>\n      <td>Europe</td>\n      <td>France</td>\n      <td>406923</td>\n      <td>2019</td>\n    </tr>\n    <tr>\n      <th>2343</th>\n      <td>Southerly</td>\n      <td>48</td>\n      <td>48</td>\n      <td>Europe</td>\n      <td>United Kingdom</td>\n      <td>1192424</td>\n      <td>2019</td>\n    </tr>\n    <tr>\n      <th>2344</th>\n      <td>X-Yachts</td>\n      <td>X4</td>\n      <td>43</td>\n      <td>Europe</td>\n      <td>United Kingdom</td>\n      <td>546613</td>\n      <td>2019</td>\n    </tr>\n    <tr>\n      <th>2345</th>\n      <td>X-Yachts</td>\n      <td>X4.6</td>\n      <td>46</td>\n      <td>Europe</td>\n      <td>Portugal</td>\n      <td>570907</td>\n      <td>2019</td>\n    </tr>\n  </tbody>\n</table>\n<p>2346 rows × 7 columns</p>\n</div>"
     },
     "execution_count": 3,
     "metadata": {},
     "output_type": "execute_result"
    }
   ],
   "source": [
    "df"
   ],
   "metadata": {
    "collapsed": false,
    "ExecuteTime": {
     "start_time": "2023-04-01T17:57:51.843407Z",
     "end_time": "2023-04-01T17:57:51.860777Z"
    }
   }
  },
  {
   "cell_type": "code",
   "execution_count": 7,
   "outputs": [],
   "source": [
    "res = df.groupby(['Make', 'Variant']).size()\n",
    "res"
   ],
   "metadata": {
    "collapsed": false,
    "ExecuteTime": {
     "start_time": "2023-04-01T18:01:46.116442Z",
     "end_time": "2023-04-01T18:01:46.266142Z"
    }
   }
  },
  {
   "cell_type": "code",
   "execution_count": null,
   "outputs": [],
   "source": [],
   "metadata": {
    "collapsed": false
   }
  }
 ],
 "metadata": {
  "kernelspec": {
   "display_name": "Python 3",
   "language": "python",
   "name": "python3"
  },
  "language_info": {
   "codemirror_mode": {
    "name": "ipython",
    "version": 2
   },
   "file_extension": ".py",
   "mimetype": "text/x-python",
   "name": "python",
   "nbconvert_exporter": "python",
   "pygments_lexer": "ipython2",
   "version": "2.7.6"
  }
 },
 "nbformat": 4,
 "nbformat_minor": 0
}

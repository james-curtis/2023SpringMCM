{
 "cells": [
  {
   "cell_type": "code",
   "execution_count": 1,
   "metadata": {
    "collapsed": true
   },
   "outputs": [
    {
     "name": "stderr",
     "output_type": "stream",
     "text": [
      "\n",
      "KeyboardInterrupt\n",
      "\n"
     ]
    }
   ],
   "source": [
    "import pandas as pd\n",
    "import numpy as np\n",
    "\n",
    "df = pd.read_excel('版本1_生成自然对数(Ln)变量_版本1_缺失值处理_Monohulled Sailboats_副本1.xlsx')\n",
    "# df = pd.read_excel(r'原始数据_2023_MCM_Problem_Y_Boats.xlsx')\n",
    "df = df.sample(frac=1).reset_index(drop=True)\n",
    "df.dropna(inplace=True)\n",
    "df.reset_index(inplace=True, drop=True)\n",
    "X = df\n",
    "Y = df.pop('Q1-自然对数(Ln)_Listing Price (USD)_缺失值处理')  # 用实际的列名替换“列名”\n",
    "Y = np.asarray(Y)\n",
    "\n",
    "import tensorflow as tf\n",
    "import numpy as np\n",
    "import matplotlib.pyplot as plt\n",
    "\n",
    "# 定义模型\n",
    "model = tf.keras.Sequential([\n",
    "    tf.keras.layers.Dense(256, activation='relu', input_shape=(X.shape[1],)),\n",
    "    # tf.keras.layers.Dense(512, activation='relu'),\n",
    "    # tf.keras.layers.Dense(256, activation='relu'),\n",
    "    tf.keras.layers.Dense(32, activation='relu'),\n",
    "    tf.keras.layers.Dense(1)\n",
    "])\n",
    "\n",
    "# 编译模型\n",
    "model.compile(optimizer='adam', loss='mse')\n",
    "\n",
    "# 训练模型\n",
    "history = model.fit(X, Y, epochs=1000, batch_size=100, validation_split=0.2)\n",
    "\n",
    "# 可视化训练和测试误差\n",
    "plt.plot(history.history['loss'])\n",
    "plt.plot(history.history['val_loss'])\n",
    "plt.title('Model loss')\n",
    "plt.ylabel('Loss')\n",
    "plt.xlabel('Epoch')\n",
    "# plt.ylim([0, 10])\n",
    "plt.legend(['Train', 'Test'], loc='upper right')\n",
    "plt.show()\n",
    "\n",
    "# 预测并可视化结果\n",
    "y_pred = model.predict(X)\n",
    "plt.scatter(Y, y_pred)\n",
    "plt.xlabel('True Values')\n",
    "plt.ylabel('Predictions')\n",
    "plt.axis('equal')\n",
    "plt.axis('square')\n",
    "# plt.xlim([9e4, 1e5])\n",
    "# plt.ylim([9e4, 1e5])\n",
    "_ = plt.plot([-1e10, 1e10], [-1e10, 1e10])\n",
    "plt.show()\n",
    "\n",
    "from sklearn.metrics import r2_score\n",
    "\n",
    "print(r2_score(Y, y_pred))"
   ]
  },
  {
   "cell_type": "code",
   "execution_count": null,
   "outputs": [],
   "source": [],
   "metadata": {
    "collapsed": false
   }
  }
 ],
 "metadata": {
  "kernelspec": {
   "display_name": "Python 3",
   "language": "python",
   "name": "python3"
  },
  "language_info": {
   "codemirror_mode": {
    "name": "ipython",
    "version": 2
   },
   "file_extension": ".py",
   "mimetype": "text/x-python",
   "name": "python",
   "nbconvert_exporter": "python",
   "pygments_lexer": "ipython2",
   "version": "2.7.6"
  }
 },
 "nbformat": 4,
 "nbformat_minor": 0
}
